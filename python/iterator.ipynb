{
 "cells": [
  {
   "cell_type": "markdown",
   "id": "876b22a4",
   "metadata": {},
   "source": [
    "## Iterator\n",
    "- 이터레이터(iterator)는 메모리를 효율적으로 사용하고, 대량의 데이터를 처리할 때 유용하기 때문에 필요하다."
   ]
  },
  {
   "cell_type": "markdown",
   "id": "3defc241",
   "metadata": {},
   "source": [
    "## ✅ 이터레이터를 사용하는 이유\n",
    "##  1️⃣ 메모리 절약 (Lazy Evaluation)\n",
    "이터레이터는 한 번에 하나의 값만 생성하므로 모든 데이터를 메모리에 저장할 필요 없음.\n",
    "➡ 특히 대량의 데이터를 다룰 때 유용!\n",
    "\n",
    "예제: 리스트 vs 이터레이터 메모리 비교"
   ]
  },
  {
   "cell_type": "code",
   "execution_count": 9,
   "id": "ea2850a6",
   "metadata": {},
   "outputs": [
    {
     "name": "stdout",
     "output_type": "stream",
     "text": [
      "8448728\n",
      "32\n"
     ]
    }
   ],
   "source": [
    "import sys\n",
    "\n",
    "numbers = [i for i in range(1000000)]  # 리스트: 모든 데이터를 한 번에 저장\n",
    "it = iter(range(1000000))  # 이터레이터: 값이 필요할 때만 생성\n",
    "\n",
    "print(sys.getsizeof(numbers))  # 8448728 bytes (약 8.4MB)\n",
    "print(sys.getsizeof(it))       # 32 bytes (거의 0MB)"
   ]
  },
  {
   "cell_type": "markdown",
   "id": "66d5ce31",
   "metadata": {},
   "source": [
    "## 2️⃣ 속도 향상 (데이터를 한 번에 처리)\n",
    "이터레이터는 값을 필요할 때만 생성하므로, 전체 데이터를 한꺼번에 가져오는 것보다 속도가 빠름.\n",
    "\n",
    "예제: 파일 읽기 (이터레이터 사용)"
   ]
  },
  {
   "cell_type": "code",
   "execution_count": null,
   "id": "c12fc127",
   "metadata": {},
   "outputs": [],
   "source": [
    "with open(\"large_file.txt\", \"r\") as file:\n",
    "    for line in file:  # 파일 객체 자체가 이터레이터\n",
    "        print(line.strip())  # 한 줄씩 읽음 (메모리 절약)\n"
   ]
  },
  {
   "cell_type": "markdown",
   "id": "89d96866",
   "metadata": {},
   "source": [
    "## 3️⃣ 무한한 데이터 처리 가능\n",
    "이터레이터는 무한한 데이터도 처리 가능.\n",
    "➡ 리스트처럼 미리 크기를 정해둘 필요 없음.\n",
    "\n",
    "예제: 무한한 피보나치 수열 생성"
   ]
  },
  {
   "cell_type": "code",
   "execution_count": 12,
   "id": "5da9c5dc",
   "metadata": {},
   "outputs": [
    {
     "name": "stdout",
     "output_type": "stream",
     "text": [
      "1 1 2 3 5 8 13 21 34 55 "
     ]
    }
   ],
   "source": [
    "class Fibonacci:\n",
    "    def __init__(self):\n",
    "        self.a, self.b = 0, 1\n",
    "    \n",
    "    def __iter__(self):\n",
    "        return self\n",
    "    \n",
    "    def __next__(self):\n",
    "        self.a, self.b = self.b, self.a + self.b\n",
    "        return self.a\n",
    "\n",
    "fib = Fibonacci()\n",
    "for _ in range(10):\n",
    "    print(next(fib), end=\" \")  # 1 1 2 3 5 8 13 21 34 55\n"
   ]
  },
  {
   "attachments": {},
   "cell_type": "markdown",
   "id": "7ab7ec46",
   "metadata": {},
   "source": [
    "## 4️⃣ 편리한 데이터 변환 (map, filter, zip 등)\n",
    "map(), filter(), zip() 같은 함수는 이터레이터를 반환해서 효율적인 데이터 처리가 가능함.\n",
    "\n",
    "예제: map()을 사용한 데이터 변환\n",
    "\n",
    "💡 map()은 필요할 때만 값을 계산하여 메모리를 절약! <br>\n",
    "💡 list(map(...))을 사용하면 한 번에 리스트로 변환 가능하지만, 메모리를 많이 사용함.\n"
   ]
  },
  {
   "cell_type": "code",
   "execution_count": 13,
   "id": "fb4501ef",
   "metadata": {},
   "outputs": [
    {
     "name": "stdout",
     "output_type": "stream",
     "text": [
      "2\n",
      "4\n",
      "[6, 8, 10]\n"
     ]
    }
   ],
   "source": [
    "nums = [1, 2, 3, 4, 5]\n",
    "doubled = map(lambda x: x * 2, nums)  # map()은 이터레이터 반환\n",
    "\n",
    "print(next(doubled))  # 2\n",
    "print(next(doubled))  # 4\n",
    "print(list(doubled))  # [6, 8, 10] (이미 사용된 요소는 제외됨)\n"
   ]
  },
  {
   "cell_type": "markdown",
   "id": "1362a4d4",
   "metadata": {},
   "source": []
  },
  {
   "cell_type": "code",
   "execution_count": null,
   "id": "c6b686b8",
   "metadata": {},
   "outputs": [],
   "source": []
  }
 ],
 "metadata": {
  "kernelspec": {
   "display_name": "Python 3 (ipykernel)",
   "language": "python",
   "name": "python3"
  },
  "language_info": {
   "codemirror_mode": {
    "name": "ipython",
    "version": 3
   },
   "file_extension": ".py",
   "mimetype": "text/x-python",
   "name": "python",
   "nbconvert_exporter": "python",
   "pygments_lexer": "ipython3",
   "version": "3.11.5"
  }
 },
 "nbformat": 4,
 "nbformat_minor": 5
}
